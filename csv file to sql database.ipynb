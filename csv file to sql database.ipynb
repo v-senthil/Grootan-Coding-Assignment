{
 "cells": [
  {
   "cell_type": "code",
   "execution_count": 32,
   "metadata": {},
   "outputs": [],
   "source": [
    "import pandas as pd\n",
    "import csv\n",
    "import sqlite3\n",
    "from cryptography.fernet import Fernet\n",
    "key = Fernet.generate_key()"
   ]
  },
  {
   "cell_type": "markdown",
   "metadata": {},
   "source": [
    "Database Connection - SQLite3"
   ]
  },
  {
   "cell_type": "code",
   "execution_count": 33,
   "metadata": {},
   "outputs": [],
   "source": [
    "conn = sqlite3.connect('csvdata.db', check_same_thread=False)\n",
    "cursor = conn.cursor()"
   ]
  },
  {
   "cell_type": "markdown",
   "metadata": {},
   "source": [
    "Reading the file and finding the number of columns"
   ]
  },
  {
   "cell_type": "code",
   "execution_count": 40,
   "metadata": {},
   "outputs": [
    {
     "name": "stdout",
     "output_type": "stream",
     "text": [
      "Number of columns =  7\n",
      "Number of columns =  17\n"
     ]
    }
   ],
   "source": [
    "file = 'testdata.csv'\n",
    "data = pd.read_csv(file)\n",
    "col_value = data.columns\n",
    "col = len(data.columns)\n",
    "print(\"Number of columns = \",col)\n",
    "rows = len(data.index) \n",
    "print(\"Number of columns = \", rows)"
   ]
  },
  {
   "cell_type": "markdown",
   "metadata": {},
   "source": [
    "If there is a column called password, the whole column data is encrypted"
   ]
  },
  {
   "cell_type": "code",
   "execution_count": null,
   "metadata": {},
   "outputs": [],
   "source": [
    "for i in range(0,col):\n",
    "    if col_value[i] == 'password' or col_value[i] == 'Password' or col_value[i] == 'PASSWORD':\n",
    "        data['broken'] = msg.encode()\n",
    "        f=Fernet(key)\n",
    "        data['broken']=f.encrypt(encoded)\n",
    "print(data)"
   ]
  },
  {
   "cell_type": "markdown",
   "metadata": {},
   "source": [
    "Creating the dynamic table"
   ]
  },
  {
   "cell_type": "code",
   "execution_count": null,
   "metadata": {},
   "outputs": [],
   "source": [
    "sql1 ='''CREATE TABLE data('''+ col_value[0] +''' VARCHAR(255))'''\n",
    "cursor.execute(sql1)\n",
    "for i in range (1,col):\n",
    "    sql ='''ALTER TABLE data ADD COLUMN '''+ col_value[i] +''' varchar(255)'''\n",
    "    cursor.execute(sql)\n",
    "    continue"
   ]
  },
  {
   "cell_type": "raw",
   "metadata": {},
   "source": [
    "Inserting the data from csv file into the Database"
   ]
  },
  {
   "cell_type": "code",
   "execution_count": null,
   "metadata": {},
   "outputs": [],
   "source": [
    "valueinsert = (col-1) * \"?,\"\n",
    "\n",
    "with open('testdata.csv','r') as file:\n",
    "    record = 1\n",
    "    for row in file:\n",
    "        cursor.execute(\"INSERT INTO data Values (\"+ valueinsert +\"?)\", row.split(\",\"))\n",
    "        conn.commit()    \n",
    "        record+=1"
   ]
  }
 ],
 "metadata": {
  "kernelspec": {
   "display_name": "Python 3",
   "language": "python",
   "name": "python3"
  },
  "language_info": {
   "codemirror_mode": {
    "name": "ipython",
    "version": 3
   },
   "file_extension": ".py",
   "mimetype": "text/x-python",
   "name": "python",
   "nbconvert_exporter": "python",
   "pygments_lexer": "ipython3",
   "version": "3.6.9"
  }
 },
 "nbformat": 4,
 "nbformat_minor": 4
}
